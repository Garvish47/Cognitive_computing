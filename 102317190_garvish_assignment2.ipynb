{
  "nbformat": 4,
  "nbformat_minor": 0,
  "metadata": {
    "colab": {
      "provenance": [],
      "authorship_tag": "ABX9TyMZTsoD9xU8WfPOhT6zBaKz",
      "include_colab_link": true
    },
    "kernelspec": {
      "name": "python3",
      "display_name": "Python 3"
    },
    "language_info": {
      "name": "python"
    }
  },
  "cells": [
    {
      "cell_type": "markdown",
      "metadata": {
        "id": "view-in-github",
        "colab_type": "text"
      },
      "source": [
        "<a href=\"https://colab.research.google.com/github/Garvish47/Cognitive_computing/blob/main/102317190_garvish_assignment2.ipynb\" target=\"_parent\"><img src=\"https://colab.research.google.com/assets/colab-badge.svg\" alt=\"Open In Colab\"/></a>"
      ]
    },
    {
      "cell_type": "markdown",
      "source": [
        "Q1)"
      ],
      "metadata": {
        "id": "PuZaUJxx8mIM"
      }
    },
    {
      "cell_type": "code",
      "execution_count": 1,
      "metadata": {
        "id": "0je07C2-vBSs",
        "colab": {
          "base_uri": "https://localhost:8080/"
        },
        "outputId": "c6c309fd-9007-40d8-eb15-ae11de84191e"
      },
      "outputs": [
        {
          "output_type": "stream",
          "name": "stdout",
          "text": [
            "[10, 20, 30, 40, 50, 60, 70, 80]\n",
            "\n",
            "[10, 20, 30, 40, 50, 60, 70, 80, 200, 300]\n",
            "\n",
            "[20, 40, 50, 60, 70, 80, 200, 300]\n",
            "\n",
            "[20, 40, 50, 60, 70, 80, 200, 300]\n",
            "\n",
            "[300, 200, 80, 70, 60, 50, 40, 20]\n"
          ]
        }
      ],
      "source": [
        "L = [10*n for n in range(1,9)]\n",
        "print(L), print()\n",
        "\n",
        "L.append(200), L.append(300)\n",
        "print(L), print()\n",
        "\n",
        "L.remove(10), L.remove(30)\n",
        "print(L), print()\n",
        "\n",
        "L.sort()\n",
        "print(L), print()\n",
        "\n",
        "L.sort(reverse=True)\n",
        "print(L)"
      ]
    },
    {
      "cell_type": "markdown",
      "source": [
        "Q2)"
      ],
      "metadata": {
        "id": "qiDW4Utu8rIb"
      }
    },
    {
      "cell_type": "code",
      "source": [
        "scores = (45, 89.5,  76, 45.4, 89, 92, 58, 45)\n",
        "\n",
        "print(f'maximum in the tuple = {max(scores)} at position {scores.index(max(scores))}')\n",
        "\n",
        "print(f'minimum in the tuple = {min(scores)} which occured {scores.count(min(scores))} times')\n",
        "\n",
        "reversed_scores = list(scores[::-1])  #the syntax here is sequence[start:stop:step] and we are using step size as -1, i.e. reverse\n",
        "\n",
        "print(f'reversed tuple = {reversed_scores}')\n",
        "\n",
        "score = float(input('input the number you want to check: '))\n",
        "if score in scores:\n",
        "  print(f'{score} is in the tuple on index {scores.index(score)}')\n",
        "else:\n",
        "  print(f'{score} is not in the tuple')"
      ],
      "metadata": {
        "colab": {
          "base_uri": "https://localhost:8080/"
        },
        "id": "-hT4so7NvZAF",
        "outputId": "9116fd90-526b-4fbc-f394-10ea426fefbc"
      },
      "execution_count": null,
      "outputs": [
        {
          "output_type": "stream",
          "name": "stdout",
          "text": [
            "maximum in the tuple = 92 at position 5\n",
            "minimum in the tuple = 45 which occured 2 times\n",
            "reversed tuple = [45, 58, 92, 89, 45.4, 76, 89.5, 45]\n",
            "input the number you want to check: 76\n",
            "76.0 is in the tuple on index 2\n"
          ]
        }
      ]
    },
    {
      "cell_type": "markdown",
      "source": [
        "Q3)"
      ],
      "metadata": {
        "id": "o30Zy4rB8tcu"
      }
    },
    {
      "cell_type": "code",
      "source": [
        "import random\n",
        "\n",
        "def is_prime(n):\n",
        "  if n <= 1:\n",
        "    return False\n",
        "  for i in range(2, int(n ** 0.5) + 1):\n",
        "    if n % i == 0:\n",
        "      return False\n",
        "  return True\n",
        "\n",
        "random_numbers = [random.randint(100,900) for _ in range(100)]\n",
        "\n",
        "odd_numbers = []\n",
        "even_numbers = []\n",
        "prime_numbers = []\n",
        "\n",
        "for number in random_numbers:\n",
        "  if number % 2 == 0:\n",
        "    even_numbers.append(number)\n",
        "  else:\n",
        "    odd_numbers.append(number)\n",
        "\n",
        "  if is_prime(number):\n",
        "    prime_numbers.append(number)\n",
        "\n",
        "print(f'odd numbers = {odd_numbers}')\n",
        "print(f'even numbers = {even_numbers}')\n",
        "print(f'prime numbers = {prime_numbers}')\n",
        "\n",
        "print(f'count of odd numbers = {len(odd_numbers)}')\n",
        "print(f'count of even numbers = {len(even_numbers)}')\n",
        "print(f'count of prime numbers = {len(prime_numbers)}')"
      ],
      "metadata": {
        "colab": {
          "base_uri": "https://localhost:8080/"
        },
        "id": "me2ODjB26Y4u",
        "outputId": "9e28c41e-50f3-4d42-9a83-066a6cac6e86"
      },
      "execution_count": 19,
      "outputs": [
        {
          "output_type": "stream",
          "name": "stdout",
          "text": [
            "odd numbers = [733, 203, 619, 507, 211, 255, 771, 283, 279, 677, 147, 397, 267, 877, 619, 877, 289, 263, 285, 233, 247, 217, 237, 465, 247, 547, 341, 479, 303, 149, 589, 117, 289, 431, 697, 211, 739, 751, 797, 609, 759, 591, 871, 363, 449, 847, 309, 671, 753, 467, 671]\n",
            "even numbers = [328, 230, 206, 118, 100, 470, 418, 364, 614, 808, 548, 458, 570, 520, 604, 852, 230, 796, 466, 682, 360, 668, 408, 160, 208, 158, 506, 750, 490, 308, 818, 738, 228, 662, 378, 442, 660, 782, 716, 344, 882, 572, 326, 274, 504, 834, 656, 818, 538]\n",
            "prime numbers = [733, 619, 211, 283, 677, 397, 877, 619, 877, 263, 233, 547, 479, 149, 431, 211, 739, 751, 797, 449, 467]\n",
            "count of odd numbers = 51\n",
            "count of even numbers = 49\n",
            "count of prime numbers = 21\n"
          ]
        }
      ]
    },
    {
      "cell_type": "markdown",
      "source": [
        "Q4)"
      ],
      "metadata": {
        "id": "o4w2T8iz8vwH"
      }
    },
    {
      "cell_type": "code",
      "source": [
        "A = {34, 56, 78, 90}\n",
        "B = {78, 45, 90, 23}\n",
        "\n",
        "print(f'union of given sets = {A|B}')\n",
        "\n",
        "print(f'intersection of sets = {A&B}')\n",
        "\n",
        "print(f'symmetric difference(exclusive scores) = {A^B}')\n",
        "\n",
        "print(f'is A subset of B?... {A.issubset(B)}')\n",
        "print(f'is B subset of A?... {B.issubset(A)}')\n",
        "\n",
        "print(f'is A superset of B?... {A.issuperset(B)}')\n",
        "print(f'is B superset of A?... {B.issuperset(A)}')\n",
        "\n",
        "x = int(input(prompt = 'enter a number: '))\n",
        "if x in A:\n",
        "  A.discard(x)\n",
        "  print(f'{x} is removed from set A')\n",
        "else:\n",
        "  print(f'{x} is not in the set')\n"
      ],
      "metadata": {
        "colab": {
          "base_uri": "https://localhost:8080/"
        },
        "id": "l-CqPHct8xNa",
        "outputId": "ed44b77f-cff9-4b11-ec6e-5bcfdcf6b16e"
      },
      "execution_count": 36,
      "outputs": [
        {
          "output_type": "stream",
          "name": "stdout",
          "text": [
            "union of given sets = {34, 45, 78, 23, 56, 90}\n",
            "intersection of sets = {90, 78}\n",
            "symmetric difference(exclusive scores) = {34, 45, 23, 56}\n",
            "is A subset of B?... False\n",
            "is B subset of A?... False\n",
            "is A superset of B?... False\n",
            "is B superset of A?... False\n",
            "enter a number: 56\n",
            "56 is removed from set A\n"
          ]
        }
      ]
    },
    {
      "cell_type": "markdown",
      "source": [
        "Q5)"
      ],
      "metadata": {
        "id": "quEg7wD2M2IK"
      }
    },
    {
      "cell_type": "code",
      "source": [
        "data = {\n",
        "    \"city\": \"New York\",\n",
        "    \"population\": 8419600,\n",
        "    \"area\": 468.9\n",
        "}\n",
        "\n",
        "print(data)\n",
        "\n",
        "data[\"location\"] = data.pop(\"city\")   #pop the data present in city, and directly store it under location attribute in dictionary(data)\n",
        "\n",
        "print(data)"
      ],
      "metadata": {
        "colab": {
          "base_uri": "https://localhost:8080/"
        },
        "id": "LwSbnKhFkOJb",
        "outputId": "6e729923-2813-4b90-f054-9f07876a3623"
      },
      "execution_count": 41,
      "outputs": [
        {
          "output_type": "stream",
          "name": "stdout",
          "text": [
            "{'city': 'New York', 'population': 8419600, 'area': 468.9}\n",
            "{'population': 8419600, 'area': 468.9, 'location': 'New York'}\n"
          ]
        }
      ]
    },
    {
      "cell_type": "markdown",
      "source": [],
      "metadata": {
        "id": "DwqFEeTe81s2"
      }
    },
    {
      "cell_type": "code",
      "source": [
        "import pandas as pd\n",
        "\n",
        "data = {\n",
        "    \"date(Jan)\": [20, 21, 22, 23],\n",
        "    \"hours_worked\": [2.5, 1, 1.5, 4],\n",
        "    \"tasks_completed\": [1, 0, 2, 2],\n",
        "}\n",
        "\n",
        "data_frame = pd.DataFrame(data)\n",
        "\n",
        "\n",
        "print(data_frame.hours_worked)\n",
        "\n"
      ],
      "metadata": {
        "id": "CT12f8b4rxsN"
      },
      "execution_count": null,
      "outputs": []
    }
  ]
}