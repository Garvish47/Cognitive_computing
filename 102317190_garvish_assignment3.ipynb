{
  "nbformat": 4,
  "nbformat_minor": 0,
  "metadata": {
    "colab": {
      "provenance": [],
      "authorship_tag": "ABX9TyP82vL16xb9k8vRkYypkz+t",
      "include_colab_link": true
    },
    "kernelspec": {
      "name": "python3",
      "display_name": "Python 3"
    },
    "language_info": {
      "name": "python"
    }
  },
  "cells": [
    {
      "cell_type": "markdown",
      "metadata": {
        "id": "view-in-github",
        "colab_type": "text"
      },
      "source": [
        "<a href=\"https://colab.research.google.com/github/Garvish47/Cognitive_computing/blob/main/102317190_garvish_assignment3.ipynb\" target=\"_parent\"><img src=\"https://colab.research.google.com/assets/colab-badge.svg\" alt=\"Open In Colab\"/></a>"
      ]
    },
    {
      "cell_type": "code",
      "execution_count": 5,
      "metadata": {
        "id": "5lFMoSuZnRaJ",
        "colab": {
          "base_uri": "https://localhost:8080/"
        },
        "outputId": "414d8911-3117-4057-c260-e18c652d585a"
      },
      "outputs": [
        {
          "output_type": "stream",
          "name": "stdout",
          "text": [
            "  Refund Marital Status Taxable income Cheat\n",
            "0    yes         single           125k    no\n",
            "1     no        married           100k    no\n",
            "2     no         single            70k    no\n",
            "3    yes        married           120k    no\n",
            "4     no       divorced            95k   yes\n",
            "5     no        married            60k    no\n",
            "6    yes       divorced           220k    no\n",
            "7     no         single            85k   yes\n",
            "8     no        married            75k    no\n",
            "9     no         single            90k   yes\n"
          ]
        }
      ],
      "source": [
        "import pandas as pd\n",
        "\n",
        "dataset = {\n",
        "    \"Refund\": ['yes', 'no', 'no', 'yes', 'no', 'no', 'yes', 'no', 'no', 'no'],\n",
        "    \"Marital Status\": ['single', 'married', 'single', 'married', 'divorced', 'married', 'divorced', 'single', 'married', 'single'],\n",
        "    \"Taxable income\": ['125k', '100k', '70k', '120k', '95k', '60k', '220k', '85k', '75k', '90k'],\n",
        "    \"Cheat\": ['no', 'no', 'no', 'no', 'yes', 'no', 'no', 'yes', 'no', 'yes']\n",
        "}\n",
        "\n",
        "df = pd.DataFrame(dataset)\n",
        "print(df)"
      ]
    },
    {
      "cell_type": "code",
      "source": [
        "print(df.iloc[[0,4,7,8]])\n",
        "print()\n",
        "\n",
        "print(df.loc[3:7])\n",
        "print()\n",
        "\n",
        "print(df.iloc[4:9, 2:4])\n",
        "print()\n",
        "\n",
        "print(df.iloc[:, 1:4])"
      ],
      "metadata": {
        "colab": {
          "base_uri": "https://localhost:8080/"
        },
        "id": "NYcSdPNuj3n1",
        "outputId": "9d94a186-b25e-4146-bb01-1a9b88abf928"
      },
      "execution_count": 14,
      "outputs": [
        {
          "output_type": "stream",
          "name": "stdout",
          "text": [
            "  Refund Marital Status Taxable income Cheat\n",
            "0    yes         single           125k    no\n",
            "4     no       divorced            95k   yes\n",
            "7     no         single            85k   yes\n",
            "8     no        married            75k    no\n",
            "\n",
            "  Refund Marital Status Taxable income Cheat\n",
            "3    yes        married           120k    no\n",
            "4     no       divorced            95k   yes\n",
            "5     no        married            60k    no\n",
            "6    yes       divorced           220k    no\n",
            "7     no         single            85k   yes\n",
            "\n",
            "  Taxable income Cheat\n",
            "4            95k   yes\n",
            "5            60k    no\n",
            "6           220k    no\n",
            "7            85k   yes\n",
            "8            75k    no\n",
            "\n",
            "  Marital Status Taxable income Cheat\n",
            "0         single           125k    no\n",
            "1        married           100k    no\n",
            "2         single            70k    no\n",
            "3        married           120k    no\n",
            "4       divorced            95k   yes\n",
            "5        married            60k    no\n",
            "6       divorced           220k    no\n",
            "7         single            85k   yes\n",
            "8        married            75k    no\n",
            "9         single            90k   yes\n"
          ]
        }
      ]
    },
    {
      "cell_type": "code",
      "source": [
        "df = pd.read_csv(\"Iris.csv\")\n",
        "#uploaded iris.csv directly on the runtime with the files option on colab\n",
        "#df_csv = pd.read_csv('https://raw.githubusercontent.com/mwaskom/seaborn-data/master/iris.csv')\n",
        "# Display the first 5 rows\n",
        "\n",
        "print(df.head())"
      ],
      "metadata": {
        "colab": {
          "base_uri": "https://localhost:8080/"
        },
        "id": "B5yRQl-qlxp9",
        "outputId": "cab7375c-8380-4743-f607-7013d3ed8a8f"
      },
      "execution_count": 16,
      "outputs": [
        {
          "output_type": "stream",
          "name": "stdout",
          "text": [
            "   Id  SepalLengthCm  SepalWidthCm  PetalLengthCm  PetalWidthCm      Species\n",
            "0   1            5.1           3.5            1.4           0.2  Iris-setosa\n",
            "1   2            4.9           3.0            1.4           0.2  Iris-setosa\n",
            "2   3            4.7           3.2            1.3           0.2  Iris-setosa\n",
            "3   4            4.6           3.1            1.5           0.2  Iris-setosa\n",
            "4   5            5.0           3.6            1.4           0.2  Iris-setosa\n"
          ]
        }
      ]
    },
    {
      "cell_type": "code",
      "source": [
        "df = df.drop(index=3)\n",
        "\n",
        "df = df.drop(df.iloc[:, 2].name, axis = 1)\n",
        "\n",
        "print(df.head())"
      ],
      "metadata": {
        "colab": {
          "base_uri": "https://localhost:8080/"
        },
        "id": "mk5di7htnaOe",
        "outputId": "8e8e2563-8d5c-4d4a-89a5-841829dc44ae"
      },
      "execution_count": 17,
      "outputs": [
        {
          "output_type": "stream",
          "name": "stdout",
          "text": [
            "   Id  SepalLengthCm  PetalLengthCm  PetalWidthCm      Species\n",
            "0   1            5.1            1.4           0.2  Iris-setosa\n",
            "1   2            4.9            1.4           0.2  Iris-setosa\n",
            "2   3            4.7            1.3           0.2  Iris-setosa\n",
            "4   5            5.0            1.4           0.2  Iris-setosa\n",
            "5   6            5.4            1.7           0.4  Iris-setosa\n"
          ]
        }
      ]
    },
    {
      "cell_type": "code",
      "source": [
        "dataset = {\n",
        "    \"Employee_ID\": [101,102,103,104,105],\n",
        "    \"Name\": ['Alice', 'Bob', 'Charlie', 'Diana', 'Edward'],\n",
        "    \"Department\": ['HR', 'IT', 'IT', 'Marketing', 'Sales'],\n",
        "    \"Age\": [29, 34, 41, 28, 38],\n",
        "    \"Salary\": [5000, 7000, 6500, 5500, 6000],\n",
        "    \"Years_of_experience\": [4, 8, 10, 3, 12],\n",
        "    \"Joining_date\": ['2020-03-15', '2017-07-19', '2013-06-01', '2021-02-10', '2010-11-25'],\n",
        "    \"Gender\": ['Female', 'Male', 'Male', 'Female', 'Male'],\n",
        "    \"Bonus\": [5000, 7000, 6000, 4500, 5000],\n",
        "    \"Rating\": [4.5, 4.0, 3.8, 4.7, 3.5]\n",
        "}\n",
        "\n",
        "df = pd.DataFrame(dataset)\n",
        "df.to_csv(\"employee_data.csv\", index=False)\n",
        "\n",
        "df = pd.DataFrame(dataset)\n",
        "\n",
        "df.to_csv(\"employees.csv\", index=False)\n",
        "\n",
        "df = pd.read_csv(\"employees.csv\")\n",
        "\n",
        "shape = df.shape\n",
        "\n",
        "summary = df.info()\n",
        "\n",
        "descriptive_stats = df.describe()\n",
        "\n",
        "first_5_rows = df.head()\n",
        "last_3_rows = df.tail(3)\n",
        "\n",
        "average_salary = df[\"Salary\"].mean()\n",
        "total_bonus = df[\"Bonus\"].sum()\n",
        "youngest_age = df[\"Age\"].min()\n",
        "highest_rating = df[\"Rating\"].max()\n",
        "\n",
        "sorted_by_salary = df.sort_values(by=\"Salary\", ascending=False)\n",
        "\n",
        "def categorize_performance(rating):\n",
        "    if rating >= 4.5:\n",
        "        return \"Excellent\"\n",
        "    elif 4.0 <= rating < 4.5:\n",
        "        return \"Good\"\n",
        "    else:\n",
        "        return \"Average\"\n",
        "\n",
        "df[\"Performance_Category\"] = df[\"Rating\"].apply(categorize_performance)\n",
        "\n",
        "missing_values = df.isnull().sum()\n",
        "\n",
        "df.rename(columns={\"Employee_ID\": \"ID\"}, inplace=True)\n",
        "\n",
        "df[\"Tax\"] = df[\"Salary\"] * 0.1\n",
        "\n",
        "df.to_csv(\"modified_employees.csv\", index=False)\n",
        "\n",
        "(\n",
        "    shape,\n",
        "    descriptive_stats,\n",
        "    first_5_rows,\n",
        "    last_3_rows,\n",
        "    average_salary,\n",
        "    total_bonus,\n",
        "    youngest_age,\n",
        "    highest_rating,\n",
        "    sorted_by_salary,\n",
        "    df,\n",
        "    missing_values,\n",
        ")\n"
      ],
      "metadata": {
        "colab": {
          "base_uri": "https://localhost:8080/"
        },
        "id": "OZCkhf2Ho-rZ",
        "outputId": "d2fb7c26-32f8-416d-e97e-83dc0b6d7cbc"
      },
      "execution_count": 9,
      "outputs": [
        {
          "output_type": "stream",
          "name": "stdout",
          "text": [
            "<class 'pandas.core.frame.DataFrame'>\n",
            "RangeIndex: 5 entries, 0 to 4\n",
            "Data columns (total 10 columns):\n",
            " #   Column               Non-Null Count  Dtype  \n",
            "---  ------               --------------  -----  \n",
            " 0   Employee_ID          5 non-null      int64  \n",
            " 1   Name                 5 non-null      object \n",
            " 2   Department           5 non-null      object \n",
            " 3   Age                  5 non-null      int64  \n",
            " 4   Salary               5 non-null      int64  \n",
            " 5   Years_of_experience  5 non-null      int64  \n",
            " 6   Joining_date         5 non-null      object \n",
            " 7   Gender               5 non-null      object \n",
            " 8   Bonus                5 non-null      int64  \n",
            " 9   Rating               5 non-null      float64\n",
            "dtypes: float64(1), int64(5), object(4)\n",
            "memory usage: 532.0+ bytes\n"
          ]
        },
        {
          "output_type": "execute_result",
          "data": {
            "text/plain": [
              "((5, 10),\n",
              "        Employee_ID        Age       Salary  Years_of_experience   Bonus  \\\n",
              " count     5.000000   5.000000     5.000000             5.000000     5.0   \n",
              " mean    103.000000  34.000000  6000.000000             7.400000  5500.0   \n",
              " std       1.581139   5.612486   790.569415             3.847077  1000.0   \n",
              " min     101.000000  28.000000  5000.000000             3.000000  4500.0   \n",
              " 25%     102.000000  29.000000  5500.000000             4.000000  5000.0   \n",
              " 50%     103.000000  34.000000  6000.000000             8.000000  5000.0   \n",
              " 75%     104.000000  38.000000  6500.000000            10.000000  6000.0   \n",
              " max     105.000000  41.000000  7000.000000            12.000000  7000.0   \n",
              " \n",
              "          Rating  \n",
              " count  5.000000  \n",
              " mean   4.100000  \n",
              " std    0.494975  \n",
              " min    3.500000  \n",
              " 25%    3.800000  \n",
              " 50%    4.000000  \n",
              " 75%    4.500000  \n",
              " max    4.700000  ,\n",
              "    Employee_ID     Name Department  Age  Salary  Years_of_experience  \\\n",
              " 0          101    Alice         HR   29    5000                    4   \n",
              " 1          102      Bob         IT   34    7000                    8   \n",
              " 2          103  Charlie         IT   41    6500                   10   \n",
              " 3          104    Diana  Marketing   28    5500                    3   \n",
              " 4          105   Edward      Sales   38    6000                   12   \n",
              " \n",
              "   Joining_date  Gender  Bonus  Rating  \n",
              " 0   2020-03-15  Female   5000     4.5  \n",
              " 1   2017-07-19    Male   7000     4.0  \n",
              " 2   2013-06-01    Male   6000     3.8  \n",
              " 3   2021-02-10  Female   4500     4.7  \n",
              " 4   2010-11-25    Male   5000     3.5  ,\n",
              "    Employee_ID     Name Department  Age  Salary  Years_of_experience  \\\n",
              " 2          103  Charlie         IT   41    6500                   10   \n",
              " 3          104    Diana  Marketing   28    5500                    3   \n",
              " 4          105   Edward      Sales   38    6000                   12   \n",
              " \n",
              "   Joining_date  Gender  Bonus  Rating  \n",
              " 2   2013-06-01    Male   6000     3.8  \n",
              " 3   2021-02-10  Female   4500     4.7  \n",
              " 4   2010-11-25    Male   5000     3.5  ,\n",
              " 6000.0,\n",
              " 27500,\n",
              " 28,\n",
              " 4.7,\n",
              "    Employee_ID     Name Department  Age  Salary  Years_of_experience  \\\n",
              " 1          102      Bob         IT   34    7000                    8   \n",
              " 2          103  Charlie         IT   41    6500                   10   \n",
              " 4          105   Edward      Sales   38    6000                   12   \n",
              " 3          104    Diana  Marketing   28    5500                    3   \n",
              " 0          101    Alice         HR   29    5000                    4   \n",
              " \n",
              "   Joining_date  Gender  Bonus  Rating  \n",
              " 1   2017-07-19    Male   7000     4.0  \n",
              " 2   2013-06-01    Male   6000     3.8  \n",
              " 4   2010-11-25    Male   5000     3.5  \n",
              " 3   2021-02-10  Female   4500     4.7  \n",
              " 0   2020-03-15  Female   5000     4.5  ,\n",
              "     ID     Name Department  Age  Salary  Years_of_experience Joining_date  \\\n",
              " 0  101    Alice         HR   29    5000                    4   2020-03-15   \n",
              " 1  102      Bob         IT   34    7000                    8   2017-07-19   \n",
              " 2  103  Charlie         IT   41    6500                   10   2013-06-01   \n",
              " 3  104    Diana  Marketing   28    5500                    3   2021-02-10   \n",
              " 4  105   Edward      Sales   38    6000                   12   2010-11-25   \n",
              " \n",
              "    Gender  Bonus  Rating Performance_Category    Tax  \n",
              " 0  Female   5000     4.5            Excellent  500.0  \n",
              " 1    Male   7000     4.0                 Good  700.0  \n",
              " 2    Male   6000     3.8              Average  650.0  \n",
              " 3  Female   4500     4.7            Excellent  550.0  \n",
              " 4    Male   5000     3.5              Average  600.0  ,\n",
              " Employee_ID             0\n",
              " Name                    0\n",
              " Department              0\n",
              " Age                     0\n",
              " Salary                  0\n",
              " Years_of_experience     0\n",
              " Joining_date            0\n",
              " Gender                  0\n",
              " Bonus                   0\n",
              " Rating                  0\n",
              " Performance_Category    0\n",
              " dtype: int64)"
            ]
          },
          "metadata": {},
          "execution_count": 9
        }
      ]
    }
  ]
}