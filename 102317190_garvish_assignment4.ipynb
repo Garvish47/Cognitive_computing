{
  "nbformat": 4,
  "nbformat_minor": 0,
  "metadata": {
    "colab": {
      "provenance": [],
      "authorship_tag": "ABX9TyObksyj94XWfS7pewc4veWz",
      "include_colab_link": true
    },
    "kernelspec": {
      "name": "python3",
      "display_name": "Python 3"
    },
    "language_info": {
      "name": "python"
    }
  },
  "cells": [
    {
      "cell_type": "markdown",
      "metadata": {
        "id": "view-in-github",
        "colab_type": "text"
      },
      "source": [
        "<a href=\"https://colab.research.google.com/github/Garvish47/Cognitive_computing/blob/main/102317190_garvish_assignment4.ipynb\" target=\"_parent\"><img src=\"https://colab.research.google.com/assets/colab-badge.svg\" alt=\"Open In Colab\"/></a>"
      ]
    },
    {
      "cell_type": "code",
      "execution_count": 1,
      "metadata": {
        "id": "LksvJ53uOHan"
      },
      "outputs": [],
      "source": [
        "import numpy as np"
      ]
    },
    {
      "cell_type": "markdown",
      "source": [
        "Q1)"
      ],
      "metadata": {
        "id": "TzRtMniaO3DD"
      }
    },
    {
      "cell_type": "code",
      "source": [
        "arr = np.array([1, 2, 3, 4, 5])\n",
        "\n",
        "arr_add = arr + 2\n",
        "print(\"Array after adding 2 to each element:\", arr_add)\n",
        "\n",
        "arr_multiply = arr * 3\n",
        "print(\"Array after multiplying each element by 3:\", arr_multiply)\n",
        "\n",
        "arr_divide = arr / 2\n",
        "print(\"Array after dividing each element by 2:\", arr_divide)"
      ],
      "metadata": {
        "colab": {
          "base_uri": "https://localhost:8080/"
        },
        "id": "aJKHPkJAOqWi",
        "outputId": "c4a952de-dc01-47ce-e9c3-a5b6a6808ebb"
      },
      "execution_count": 2,
      "outputs": [
        {
          "output_type": "stream",
          "name": "stdout",
          "text": [
            "Array after adding 2 to each element: [3 4 5 6 7]\n",
            "Array after multiplying each element by 3: [ 3  6  9 12 15]\n",
            "Array after dividing each element by 2: [0.5 1.  1.5 2.  2.5]\n"
          ]
        }
      ]
    },
    {
      "cell_type": "markdown",
      "source": [
        "Q2) a)"
      ],
      "metadata": {
        "id": "-1gFhxvvO53g"
      }
    },
    {
      "cell_type": "code",
      "source": [
        "arr = np.array([1, 2, 3, 6, 4, 5])\n",
        "\n",
        "arr_reversed = arr[::-1]\n",
        "print(\"Reversed array:\", arr_reversed)"
      ],
      "metadata": {
        "colab": {
          "base_uri": "https://localhost:8080/"
        },
        "id": "mmkkU1ezO8EN",
        "outputId": "53bdb516-9d57-41ff-fdec-51bf9fdda0ca"
      },
      "execution_count": 6,
      "outputs": [
        {
          "output_type": "stream",
          "name": "stdout",
          "text": [
            "Reversed array: [5 4 6 3 2 1]\n"
          ]
        }
      ]
    },
    {
      "cell_type": "markdown",
      "source": [
        "b) i)"
      ],
      "metadata": {
        "id": "YJb7DNSYRb26"
      }
    },
    {
      "cell_type": "code",
      "source": [
        "x = np.array([1, 2, 3, 4, 5, 1, 2, 1, 1, 1])\n",
        "\n",
        "unique, counts = np.unique(x, return_counts=True)\n",
        "most_frequent_value = unique[np.argmax(counts)]\n",
        "\n",
        "indices_x = np.where(x == most_frequent_value)[0]\n",
        "\n",
        "print(\"Most frequent value:\", most_frequent_value)\n",
        "print(\"Indices of the most frequent value:\", indices_x)"
      ],
      "metadata": {
        "colab": {
          "base_uri": "https://localhost:8080/"
        },
        "id": "f4dev7i_Ra9s",
        "outputId": "4c61b805-8b1a-4ab7-8c2a-fd88296a2ce0"
      },
      "execution_count": 7,
      "outputs": [
        {
          "output_type": "stream",
          "name": "stdout",
          "text": [
            "Most frequent value: 1\n",
            "Indices of the most frequent value: [0 5 7 8 9]\n"
          ]
        }
      ]
    },
    {
      "cell_type": "code",
      "source": [
        "y = np.array([1, 1, 1, 2, 3, 4, 2, 4, 3, 3])\n",
        "\n",
        "unique_y, counts_y = np.unique(y, return_counts=True)\n",
        "most_frequent_value_y = unique_y[np.argmax(counts_y)]\n",
        "\n",
        "indices_y = np.where(y == most_frequent_value_y)[0]\n",
        "\n",
        "print(\"Most frequent value:\", most_frequent_value_y)\n",
        "print(\"Indices of the most frequent value:\", indices_y)"
      ],
      "metadata": {
        "colab": {
          "base_uri": "https://localhost:8080/"
        },
        "id": "Pa8t9ecXRf7i",
        "outputId": "071012fa-e23d-40e1-a64a-11c78ded521e"
      },
      "execution_count": 9,
      "outputs": [
        {
          "output_type": "stream",
          "name": "stdout",
          "text": [
            "Most frequent value: 1\n",
            "Indices of the most frequent value: [0 1 2]\n"
          ]
        }
      ]
    },
    {
      "cell_type": "code",
      "source": [
        "import numpy as np\n",
        "\n",
        "arr = np.array([[10, 20, 30],\n",
        "                [40, 50, 60],\n",
        "                [70, 80, 90]])\n",
        "\n",
        "#a)\n",
        "element_1st_row_2nd_column = arr[0, 1]\n",
        "print(\"1st row, 2nd column element:\", element_1st_row_2nd_column)\n",
        "\n",
        "#b)\n",
        "element_3rd_row_1st_column = arr[2, 0]\n",
        "print(\"3rd row, 1st column element:\", element_3rd_row_1st_column)"
      ],
      "metadata": {
        "colab": {
          "base_uri": "https://localhost:8080/"
        },
        "id": "LT_zzp_lSiOj",
        "outputId": "ff20c818-226f-478c-8e46-96d3bc352508"
      },
      "execution_count": 11,
      "outputs": [
        {
          "output_type": "stream",
          "name": "stdout",
          "text": [
            "1st row, 2nd column element: 20\n",
            "3rd row, 1st column element: 70\n"
          ]
        }
      ]
    },
    {
      "cell_type": "code",
      "source": [
        "garvish = np.linspace(10, 100, 25)\n",
        "\n",
        "print(garvish)\n",
        "\n",
        "\n",
        "print(\"Dimensions of the array:\", garvish.ndim)\n",
        "\n",
        "print(\"Shape of the array:\", garvish.shape)\n",
        "\n",
        "print(\"Total number of elements:\", garvish.size)\n",
        "\n",
        "print(\"Data type of elements:\", garvish.dtype)\n",
        "\n",
        "print(\"Total number of bytes consumed:\", garvish.nbytes)\n",
        "\n",
        "transpose_reshape = garvish.reshape(-1, 1)\n",
        "print(\"Transpose using reshape():\", transpose_reshape)\n",
        "\n",
        "transpose_T = garvish.T\n",
        "print(\"Transpose using T attribute:\", transpose_T)"
      ],
      "metadata": {
        "colab": {
          "base_uri": "https://localhost:8080/"
        },
        "id": "4xHv9PKvS04I",
        "outputId": "62ddad87-56f0-48e2-981b-77f7f9fdbce3"
      },
      "execution_count": 17,
      "outputs": [
        {
          "output_type": "stream",
          "name": "stdout",
          "text": [
            "[ 10.    13.75  17.5   21.25  25.    28.75  32.5   36.25  40.    43.75\n",
            "  47.5   51.25  55.    58.75  62.5   66.25  70.    73.75  77.5   81.25\n",
            "  85.    88.75  92.5   96.25 100.  ]\n",
            "Dimensions of the array: 1\n",
            "Shape of the array: (25,)\n",
            "Total number of elements: 25\n",
            "Data type of elements: float64\n",
            "Total number of bytes consumed: 200\n",
            "Transpose using reshape(): [[ 10.  ]\n",
            " [ 13.75]\n",
            " [ 17.5 ]\n",
            " [ 21.25]\n",
            " [ 25.  ]\n",
            " [ 28.75]\n",
            " [ 32.5 ]\n",
            " [ 36.25]\n",
            " [ 40.  ]\n",
            " [ 43.75]\n",
            " [ 47.5 ]\n",
            " [ 51.25]\n",
            " [ 55.  ]\n",
            " [ 58.75]\n",
            " [ 62.5 ]\n",
            " [ 66.25]\n",
            " [ 70.  ]\n",
            " [ 73.75]\n",
            " [ 77.5 ]\n",
            " [ 81.25]\n",
            " [ 85.  ]\n",
            " [ 88.75]\n",
            " [ 92.5 ]\n",
            " [ 96.25]\n",
            " [100.  ]]\n",
            "Transpose using T attribute: [ 10.    13.75  17.5   21.25  25.    28.75  32.5   36.25  40.    43.75\n",
            "  47.5   51.25  55.    58.75  62.5   66.25  70.    73.75  77.5   81.25\n",
            "  85.    88.75  92.5   96.25 100.  ]\n"
          ]
        }
      ]
    },
    {
      "cell_type": "code",
      "source": [
        "import numpy as np\n",
        "\n",
        "ucs420_garvish = np.array([[10, 20, 30, 40],\n",
        "                           [50, 60, 70, 80],\n",
        "                           [90, 15, 20, 35]])\n",
        "\n",
        "print(\"Original array (ucs420_garvish):\")\n",
        "print(ucs420_garvish)\n",
        "\n",
        "print(\"\\nMean:\", np.mean(ucs420_garvish))\n",
        "print(\"Median:\", np.median(ucs420_garvish))\n",
        "print(\"Max:\", np.max(ucs420_garvish))\n",
        "print(\"Min:\", np.min(ucs420_garvish))\n",
        "print(\"Unique elements:\", np.unique(ucs420_garvish))\n",
        "\n",
        "reshaped_ucs420_garvish = np.reshape(ucs420_garvish, (4, 3))\n",
        "print(\"\\nReshaped array (reshaped_ucs420_garvish):\")\n",
        "print(reshaped_ucs420_garvish)\n",
        "\n",
        "resized_ucs420_garvish = np.resize(ucs420_garvish, (2, 3))\n",
        "print(\"\\nResized array (resized_ucs420_garvish):\")\n",
        "print(resized_ucs420_garvish)"
      ],
      "metadata": {
        "colab": {
          "base_uri": "https://localhost:8080/"
        },
        "id": "BO07dP5CTy7i",
        "outputId": "a54965c2-521a-4c10-d4f5-5a8ea1a24bc8"
      },
      "execution_count": 23,
      "outputs": [
        {
          "output_type": "stream",
          "name": "stdout",
          "text": [
            "Original array (ucs420_garvish):\n",
            "[[10 20 30 40]\n",
            " [50 60 70 80]\n",
            " [90 15 20 35]]\n",
            "\n",
            "Mean: 43.333333333333336\n",
            "Median: 37.5\n",
            "Max: 90\n",
            "Min: 10\n",
            "Unique elements: [10 15 20 30 35 40 50 60 70 80 90]\n",
            "\n",
            "Reshaped array (reshaped_ucs420_garvish):\n",
            "[[10 20 30]\n",
            " [40 50 60]\n",
            " [70 80 90]\n",
            " [15 20 35]]\n",
            "\n",
            "Resized array (resized_ucs420_garvish):\n",
            "[[10 20 30]\n",
            " [40 50 60]]\n"
          ]
        }
      ]
    }
  ]
}